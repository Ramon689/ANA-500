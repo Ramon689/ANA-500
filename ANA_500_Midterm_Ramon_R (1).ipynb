{
 "cells": [
  {
   "attachments": {},
   "cell_type": "markdown",
   "id": "7539627d",
   "metadata": {},
   "source": [
    "Author: Ramon Rodriguez\n",
    "\n",
    "ANA 500 Midterm\n",
    "\n",
    "1.\t[5 points] SA: Explain the role of Python in data science.\n",
    "\n",
    "    Python is a high-level programming language used for general purpose programming. Many data scientist today choose to use python because of its ease of use and readability. Python uses libraries which allow us to perform high computaityonal task to drive insights from our data. \n",
    "    \n",
    "2.\t[5 points] SA: Explain the scientific method. \n",
    "\n",
    "    The scientific method is the proccess of establishing facts through experimentaiton and testing. The scientific method is usually broken down into 5 steps observation, hypothesis, test, analyze, report. \n",
    "\n",
    "3.\t[5 points] SA: Outline the typical steps in a data science project and provide a brief description of each.\n",
    "\n",
    "    The steps in a data science project are problem statement, data colloection, data cleaning, feature engineering, analysis, conclusion. \n",
    "    \n",
    "    problem statement: Indentify and understand the problem to be solved by the study. \n",
    "    \n",
    "    data colloection: Think about what data you would need to solve your problem\n",
    "    \n",
    "    data cleaning: Check fro errors and missing values. This is possibly the most important step in the proccess as \"bad data\" can lead to incorrect results.\n",
    "    \n",
    "    \n",
    "    feature engineering: In this step we will lok to create new variables to test with the goal of enhancing the model and simplifying the data used.\n",
    "    \n",
    "    analysis: In this step you will create a modle to test your hypothesis against. Explore all dat science tools at your dispoal to crunch the data and find insights.\n",
    "    \n",
    "    conclusion: This is where you craft you story and tie all the data together to support your findings.\n",
    "    \n"
   ]
  },
  {
   "cell_type": "code",
   "execution_count": 5,
   "id": "96a623a6",
   "metadata": {},
   "outputs": [
    {
     "name": "stdout",
     "output_type": "stream",
     "text": [
      "x= 2\n",
      "Value of 2 + 2 is 4\n",
      "x =\n",
      "5 x = 5\n"
     ]
    }
   ],
   "source": [
    "#Q4\n",
    "x = 2\n",
    "y = 3\n",
    "print('x=', x) #this statement prints the value of x\n",
    "print('Value of', x, '+', x, 'is', (x + x)) #this statement prints the words \"value of\" then uses the mathematial formula x+x, prints the word \"is\" and finally uses the formula \"x+x\" to determins the answer is 4.\n",
    "print('x =') #prints out x =\n",
    "print((x + y), 'x =', (y + x)) # x+y is a mathematical formula, then print \"x=\" and the laste part of our statments is the mathemtical formula of x + y again"
   ]
  },
  {
   "cell_type": "code",
   "execution_count": 6,
   "id": "50654e26",
   "metadata": {},
   "outputs": [
    {
     "ename": "NameError",
     "evalue": "name 'grade' is not defined",
     "output_type": "error",
     "traceback": [
      "\u001b[0;31m---------------------------------------------------------------------------\u001b[0m",
      "\u001b[0;31mNameError\u001b[0m                                 Traceback (most recent call last)",
      "\u001b[0;32m/var/folders/sh/c9ypttvx2tq200vl0_vnd4q00000gn/T/ipykernel_75606/2108590352.py\u001b[0m in \u001b[0;36m<module>\u001b[0;34m\u001b[0m\n\u001b[0;32m----> 1\u001b[0;31m \u001b[0;32mif\u001b[0m \u001b[0mgrade\u001b[0m \u001b[0;34m>=\u001b[0m \u001b[0;36m90\u001b[0m\u001b[0;34m:\u001b[0m\u001b[0;34m\u001b[0m\u001b[0;34m\u001b[0m\u001b[0m\n\u001b[0m\u001b[1;32m      2\u001b[0m     \u001b[0mprint\u001b[0m\u001b[0;34m(\u001b[0m\u001b[0;34m'Congratulations! Your grade of '\u001b[0m\u001b[0;34m,\u001b[0m \u001b[0mgrade\u001b[0m\u001b[0;34m,\u001b[0m \u001b[0;34m' earns you an A in this course'\u001b[0m\u001b[0;34m)\u001b[0m\u001b[0;34m\u001b[0m\u001b[0;34m\u001b[0m\u001b[0m\n",
      "\u001b[0;31mNameError\u001b[0m: name 'grade' is not defined"
     ]
    }
   ],
   "source": [
    "#Q5\n",
    "if grade >= 90:\n",
    "    print('Congratulations! Your grade of ', grade, ' earns you an A in this course')"
   ]
  },
  {
   "cell_type": "code",
   "execution_count": 11,
   "id": "94059e6f",
   "metadata": {},
   "outputs": [
    {
     "name": "stdout",
     "output_type": "stream",
     "text": [
      "Congratulations! Your grade of  91  earns you an A in this course\n"
     ]
    }
   ],
   "source": [
    "\n",
    "grade = 91\n",
    "\n",
    "if grade >= 90:\n",
    "    print('Congratulations! Your grade of ', grade, ' earns you an A in this course')"
   ]
  },
  {
   "cell_type": "code",
   "execution_count": 55,
   "id": "f25ae5c9",
   "metadata": {},
   "outputs": [
    {
     "name": "stdout",
     "output_type": "stream",
     "text": [
      "What is your problem?\n",
      "I have no problem\n",
      "Have you had this problem before (yes or no)?\n",
      "no\n",
      "Well, you have it now.\n",
      "\n"
     ]
    }
   ],
   "source": [
    "#Q6\n",
    "\n",
    "temp=input(\"What is your problem?\\n\")\n",
    "temp=input(\"Have you had this problem before (yes or no)?\\n\")\n",
    "if temp == \"yes\":\n",
    "    print(\"Well, you have it again.\\n\")\n",
    "else:\n",
    "    print(\"Well, you have it now.\\n\")"
   ]
  },
  {
   "cell_type": "markdown",
   "id": "889945cc",
   "metadata": {},
   "source": [
    "The user would not be convinced of intelligent behavior because the responses does not acknowledge the users question. The machine did not formulate a response to help the user solve their problem therefore it did not exhibit intlellgent behavior. "
   ]
  },
  {
   "cell_type": "code",
   "execution_count": 13,
   "id": "c39f7fa0",
   "metadata": {},
   "outputs": [
    {
     "data": {
      "text/plain": [
       "array([[0, 1],\n",
       "       [2, 3]])"
      ]
     },
     "execution_count": 13,
     "metadata": {},
     "output_type": "execute_result"
    }
   ],
   "source": [
    "#Q7\n",
    "import pandas as pd\n",
    "import numpy as np\n",
    "\n",
    "array = np.arange(4).reshape(2,2)\n",
    "array "
   ]
  },
  {
   "cell_type": "code",
   "execution_count": 14,
   "id": "ba0e8d9e",
   "metadata": {},
   "outputs": [
    {
     "data": {
      "text/plain": [
       "array([[ 7,  8],\n",
       "       [ 9, 10]])"
      ]
     },
     "execution_count": 14,
     "metadata": {},
     "output_type": "execute_result"
    }
   ],
   "source": [
    "array + 7"
   ]
  },
  {
   "cell_type": "code",
   "execution_count": 15,
   "id": "d0599120",
   "metadata": {},
   "outputs": [
    {
     "data": {
      "text/plain": [
       "array([[0, 2],\n",
       "       [4, 6]])"
      ]
     },
     "execution_count": 15,
     "metadata": {},
     "output_type": "execute_result"
    }
   ],
   "source": [
    "array * 2"
   ]
  },
  {
   "cell_type": "code",
   "execution_count": 16,
   "id": "6b5bbfab",
   "metadata": {},
   "outputs": [
    {
     "data": {
      "text/plain": [
       "array([[ 1,  2,  3,  4,  5],\n",
       "       [ 6,  7,  8,  9, 10],\n",
       "       [11, 12, 13, 14, 15]])"
      ]
     },
     "execution_count": 16,
     "metadata": {},
     "output_type": "execute_result"
    }
   ],
   "source": [
    "#Q8\n",
    "array2 = np.arange(1,16,1).reshape(3,5)\n",
    "array2"
   ]
  },
  {
   "cell_type": "code",
   "execution_count": 17,
   "id": "266a19fb",
   "metadata": {},
   "outputs": [
    {
     "data": {
      "text/plain": [
       "array([11, 12, 13, 14, 15])"
      ]
     },
     "execution_count": 17,
     "metadata": {},
     "output_type": "execute_result"
    }
   ],
   "source": [
    "array2[2]"
   ]
  },
  {
   "cell_type": "code",
   "execution_count": 23,
   "id": "0241879c",
   "metadata": {},
   "outputs": [
    {
     "data": {
      "text/plain": [
       "array([ 5, 10, 15])"
      ]
     },
     "execution_count": 23,
     "metadata": {},
     "output_type": "execute_result"
    }
   ],
   "source": [
    "array2[:,4]"
   ]
  },
  {
   "cell_type": "code",
   "execution_count": 24,
   "id": "e7bc04f9",
   "metadata": {},
   "outputs": [
    {
     "data": {
      "text/plain": [
       "array([[ 1,  2,  3,  4,  5],\n",
       "       [ 6,  7,  8,  9, 10]])"
      ]
     },
     "execution_count": 24,
     "metadata": {},
     "output_type": "execute_result"
    }
   ],
   "source": [
    "array2[0:2]"
   ]
  },
  {
   "cell_type": "code",
   "execution_count": 25,
   "id": "d37a435c",
   "metadata": {},
   "outputs": [
    {
     "data": {
      "text/plain": [
       "array([[ 3,  4,  5],\n",
       "       [ 8,  9, 10],\n",
       "       [13, 14, 15]])"
      ]
     },
     "execution_count": 25,
     "metadata": {},
     "output_type": "execute_result"
    }
   ],
   "source": [
    "array2[:,2:5]"
   ]
  },
  {
   "cell_type": "code",
   "execution_count": 26,
   "id": "6f2b09db",
   "metadata": {},
   "outputs": [
    {
     "data": {
      "text/plain": [
       "4"
      ]
     },
     "execution_count": 26,
     "metadata": {},
     "output_type": "execute_result"
    }
   ],
   "source": [
    "array2[0][3]"
   ]
  },
  {
   "cell_type": "code",
   "execution_count": 27,
   "id": "871a7b67",
   "metadata": {},
   "outputs": [
    {
     "data": {
      "text/plain": [
       "array([[ 6,  8, 10],\n",
       "       [11, 13, 15]])"
      ]
     },
     "execution_count": 27,
     "metadata": {},
     "output_type": "execute_result"
    }
   ],
   "source": [
    "array2[1:3, np.r_[:1,2,4]]"
   ]
  },
  {
   "cell_type": "code",
   "execution_count": 29,
   "id": "cccc1bdc",
   "metadata": {},
   "outputs": [
    {
     "name": "stdout",
     "output_type": "stream",
     "text": [
      "Random number list is : [10, 5, 5, 5, 5, 5, 8, 8, 9, 7, 2, 9, 6, 10, 8, 8, 7, 7, 10, 7, 3, 7, 8, 3, 6, 10, 7, 2, 9, 9, 4, 2, 10, 3, 10, 5, 3, 4, 4, 2, 6, 3, 9, 2, 2, 1, 5, 6, 4, 8]\n"
     ]
    }
   ],
   "source": [
    "#Q9\n",
    "\n",
    "import random\n",
    "res = [random.randrange(1, 11, 1) for i in range(50)]\n",
    " \n",
    "\n",
    "print (\"Random number list is : \" +  str(res))\n"
   ]
  },
  {
   "cell_type": "code",
   "execution_count": 30,
   "id": "41ad2101",
   "metadata": {},
   "outputs": [
    {
     "data": {
      "text/plain": [
       "(array([ 1,  2,  3,  4,  5,  6,  7,  8,  9, 10]),\n",
       " array([1, 6, 5, 4, 7, 4, 6, 6, 5, 6]))"
      ]
     },
     "execution_count": 30,
     "metadata": {},
     "output_type": "execute_result"
    }
   ],
   "source": [
    "np.unique(res, return_counts=True)"
   ]
  },
  {
   "cell_type": "code",
   "execution_count": 50,
   "id": "9a0d3253",
   "metadata": {},
   "outputs": [],
   "source": [
    "#Q10\n",
    "classlist=[1,2,5,4,3,5,2,1,3,3,1,4,3,3,3,2,3,3,2,5]"
   ]
  },
  {
   "cell_type": "code",
   "execution_count": 51,
   "id": "f2be554f",
   "metadata": {},
   "outputs": [
    {
     "data": {
      "text/plain": [
       "(array([1, 2, 3, 4, 5]), array([3, 4, 8, 2, 3]))"
      ]
     },
     "execution_count": 51,
     "metadata": {},
     "output_type": "execute_result"
    }
   ],
   "source": [
    "np.unique(classlist, return_counts=True)"
   ]
  },
  {
   "cell_type": "code",
   "execution_count": 52,
   "id": "86eb855b",
   "metadata": {},
   "outputs": [
    {
     "data": {
      "text/plain": [
       "1"
      ]
     },
     "execution_count": 52,
     "metadata": {},
     "output_type": "execute_result"
    }
   ],
   "source": [
    "np.amin(classlist,0)"
   ]
  },
  {
   "cell_type": "code",
   "execution_count": 34,
   "id": "26bc300b",
   "metadata": {},
   "outputs": [
    {
     "data": {
      "text/plain": [
       "5"
      ]
     },
     "execution_count": 34,
     "metadata": {},
     "output_type": "execute_result"
    }
   ],
   "source": [
    "np.amax(classlist,0)\n"
   ]
  },
  {
   "cell_type": "code",
   "execution_count": 35,
   "id": "862e936a",
   "metadata": {},
   "outputs": [
    {
     "data": {
      "text/plain": [
       "4"
      ]
     },
     "execution_count": 35,
     "metadata": {},
     "output_type": "execute_result"
    }
   ],
   "source": [
    "np.ptp(classlist,0)\n"
   ]
  },
  {
   "cell_type": "code",
   "execution_count": 36,
   "id": "7152ff1c",
   "metadata": {},
   "outputs": [
    {
     "data": {
      "text/plain": [
       "2.9"
      ]
     },
     "execution_count": 36,
     "metadata": {},
     "output_type": "execute_result"
    }
   ],
   "source": [
    "np.mean(classlist,0)\n"
   ]
  },
  {
   "cell_type": "code",
   "execution_count": 37,
   "id": "bcab2110",
   "metadata": {},
   "outputs": [
    {
     "data": {
      "text/plain": [
       "3.0"
      ]
     },
     "execution_count": 37,
     "metadata": {},
     "output_type": "execute_result"
    }
   ],
   "source": [
    "np.median(classlist,0)\n"
   ]
  },
  {
   "cell_type": "code",
   "execution_count": 38,
   "id": "75d2f73d",
   "metadata": {},
   "outputs": [
    {
     "data": {
      "text/plain": [
       "3.0"
      ]
     },
     "execution_count": 38,
     "metadata": {},
     "output_type": "execute_result"
    }
   ],
   "source": [
    "np.median(classlist,0)\n"
   ]
  },
  {
   "cell_type": "code",
   "execution_count": 39,
   "id": "a52d3b5c",
   "metadata": {},
   "outputs": [
    {
     "data": {
      "text/plain": [
       "ModeResult(mode=array([3]), count=array([8]))"
      ]
     },
     "execution_count": 39,
     "metadata": {},
     "output_type": "execute_result"
    }
   ],
   "source": [
    "from scipy import stats\n",
    "stats.mode(classlist)"
   ]
  },
  {
   "cell_type": "code",
   "execution_count": 40,
   "id": "4c1f2d61",
   "metadata": {},
   "outputs": [
    {
     "data": {
      "text/plain": [
       "1.49"
      ]
     },
     "execution_count": 40,
     "metadata": {},
     "output_type": "execute_result"
    }
   ],
   "source": [
    "np.var(classlist,0)\n"
   ]
  },
  {
   "cell_type": "code",
   "execution_count": 41,
   "id": "3d31a06f",
   "metadata": {},
   "outputs": [
    {
     "data": {
      "text/plain": [
       "1.2206555615733703"
      ]
     },
     "execution_count": 41,
     "metadata": {},
     "output_type": "execute_result"
    }
   ],
   "source": [
    "np.std(classlist,0)"
   ]
  },
  {
   "cell_type": "code",
   "execution_count": 44,
   "id": "07951425",
   "metadata": {},
   "outputs": [
    {
     "data": {
      "text/plain": [
       "(array([3., 0., 4., 0., 0., 8., 0., 2., 0., 3.]),\n",
       " array([1. , 1.4, 1.8, 2.2, 2.6, 3. , 3.4, 3.8, 4.2, 4.6, 5. ]),\n",
       " <BarContainer object of 10 artists>)"
      ]
     },
     "execution_count": 44,
     "metadata": {},
     "output_type": "execute_result"
    },
    {
     "data": {
      "image/png": "[encoded data removed]",
      "text/plain": [
       "<Figure size 640x480 with 1 Axes>"
      ]
     },
     "metadata": {},
     "output_type": "display_data"
    }
   ],
   "source": [
    "#Q11\n",
    "\n",
    "import matplotlib as mpl\n",
    "import matplotlib.pyplot as plt\n",
    "plt.style.use('classic')\n",
    "plt.hist(classlist)"
   ]
  },
  {
   "cell_type": "code",
   "execution_count": 54,
   "id": "2c53b4eb",
   "metadata": {},
   "outputs": [
    {
     "data": {
      "text/plain": [
       "(array([3., 4., 8., 2., 3.]),\n",
       " array([1. , 1.8, 2.6, 3.4, 4.2, 5. ]),\n",
       " <BarContainer object of 5 artists>)"
      ]
     },
     "execution_count": 54,
     "metadata": {},
     "output_type": "execute_result"
    },
    {
     "data": {
      "image/png": "[encoded data removed]",
      "text/plain": [
       "<Figure size 640x480 with 1 Axes>"
      ]
     },
     "metadata": {},
     "output_type": "display_data"
    }
   ],
   "source": [
    "import matplotlib as mpl\n",
    "import matplotlib.pyplot as plt\n",
    "plt.style.use('classic')\n",
    "plt.hist(classlist, bins=5)"
   ]
  },
  {
   "cell_type": "code",
   "execution_count": 53,
   "id": "7bf13705",
   "metadata": {},
   "outputs": [
    {
     "data": {
      "image/png": "[encoded data removed]",
      "text/plain": [
       "<Figure size 640x480 with 1 Axes>"
      ]
     },
     "metadata": {},
     "output_type": "display_data"
    }
   ],
   "source": [
    "import numpy as np\n",
    "import matplotlib.pyplot as plt\n",
    "from matplotlib.ticker import PercentFormatter\n",
    "\n",
    "data = classlist\n",
    "plt.hist(data, weights=np.ones(len(data)) / len(data), bins = 5)\n",
    "\n",
    "plt.gca().yaxis.set_major_formatter(PercentFormatter(1))\n",
    "plt.show()"
   ]
  },
  {
   "cell_type": "code",
   "execution_count": null,
   "id": "63505758",
   "metadata": {},
   "outputs": [],
   "source": []
  }
 ],
 "metadata": {
  "kernelspec": {
   "display_name": "Python 3 (ipykernel)",
   "language": "python",
   "name": "python3"
  },
  "language_info": {
   "codemirror_mode": {
    "name": "ipython",
    "version": 3
   },
   "file_extension": ".py",
   "mimetype": "text/x-python",
   "name": "python",
   "nbconvert_exporter": "python",
   "pygments_lexer": "ipython3",
   "version": "3.9.7"
  }
 },
 "nbformat": 4,
 "nbformat_minor": 5
}
